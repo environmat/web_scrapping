{
 "cells": [
  {
   "cell_type": "code",
   "execution_count": 1,
   "id": "c9d28036",
   "metadata": {},
   "outputs": [],
   "source": [
    "import requests\n",
    "from bs4 import BeautifulSoup\n",
    "\n",
    "\n",
    "URL = \"https://www.energy-storage.news/market-segments/grid-scale/\"\n",
    "page = requests.get(URL)\n",
    "\n",
    "soup = BeautifulSoup(page.content, \"html.parser\")\n",
    "\n",
    "# <div class=\"elementor-widget-container\">\n",
    "# results = soup.find(class_=\"jet-listing-grid__items grid-col-desk-1 grid-col-tablet-1 grid-col-mobile-1 jet-listing-grid--513\")\n",
    "results = soup.find(class_=\"elementor-widget-container\")\n",
    "all_results = soup.select('.jet-listing-dynamic-post-53757 > div:nth-child(1) > section:nth-child(1) > div:nth-child(2) > div:nth-child(2) > div:nth-child(1) > div:nth-child(3) > div:nth-child(1)')\n",
    "\n",
    "container_results = soup.select('.elementor-element .elementor-widget-container .elementor-widget-container')\n",
    "# container_results = soup.select(\".elementor-element .elementor-element-79cd234 .elementor-widget .elementor-widget-text-editor\")\n",
    "\n",
    "# print(page.text)\n",
    "# print(results.prettify())\n",
    "# print(all_results)\n",
    "# print(container_results)\n",
    "# for item in container_results:\n",
    "#     print(item)"
   ]
  },
  {
   "cell_type": "code",
   "execution_count": 4,
   "id": "67adf837",
   "metadata": {},
   "outputs": [
    {
     "data": {
      "text/plain": [
       "'Grid Scale Archives - Energy-Storage.News Skip to content Solar MediaEventsPV TechSolar Power PortalCurrent±  Newsletter Twitter/X LinkedIn YouTube Feed Subscribe To PremiumPremium SubscriptionSign InMy AccountSearch ...  ResultsSee all results   NewsPremiumPV Tech Power JournalTechnical PapersIndustry UpdatesDistributedGrid ScaleOff GridMarket AnalysisSoftware & OptimisationMaterials & ProductionFeaturesResourcesInterviewsGuest blogEditor’s blogAnalysisEvents & WebinarsEventsUpcoming WebinarsOn-demand Webinars The Energy Storage Report 2024 Now available to download, covering deployments, technology, policy and finance in the energy storage market Download for Free Grid Scale   Entech and Eiffage partner to build transmission-connected BESS projects in France May 17, 2024 Construction group Eiffage and Entech have created a joint venture entity to design and build battery energy storage system (BESS) projects connected to the high-voltage network in France.   Premium Romania’s largest BESS operator: ‘showing a viable business with local technologies’ May 17, 2024 We hear from renewables independent power producer (IPP) and energy trading firm Monsson about a recent BESS project in Romania which reportedly used nearly 100% European technologies.   Premium UK system operator reassessing ‘outdated’ Capacity Market de-rating factors for storage May 16, 2024 UK electricity market operator National Grid ESO is reassessing how much energy storage gets paid in the Capacity Market, battery storage operators told Energy-Storage.news, with one calling the current system ‘outdated’.     Uzbekistan: Voltalia deploying co-located 100MWh BESS, plans 1GWh project May 16, 2024 France-headquartered independent power producer (IPP) Voltalia has started building a 126MW solar PV project in Uzbekistan, to which it will add a 50MW/100MWh BESS with plans to build another project ten times as big.   Battery storage failure incident rate dropped 97% between 2018 and 2023 May 16, 2024 Battery storage failure incidents have dramatically decreased in frequency in the last few years, but the industry still needs to be more transparent and share data when incidents occur.   InfraVia acquires Dutch/Belgian developer Giga Storage May 16, 2024 Infrastructure investor InfraVia has bought a majority stake in Giga Storage, a Netherlands-headquartered BESS developer which is building a 2.4GWh project in Belgium.     Developer Nofar and Sungrow deploying 230MWh Germany BESS project May 16, 2024 Inverter and BESS company Sungrow has signed a deal with developer Nofar Energy for a 230MWh project in Saxony-Anhalt, Germany.   Growth in production will keep lithium carbonate prices below 2022’s peak, says BMI May 16, 2024 Battery storage project development costs will continue to fall in 2024 as lithium costs decline “significantly,” according to BMI Research.   Zinc battery player Eos says cost reductions, automated production will fuel profitability shift in 2024 May 15, 2024 US zinc hybrid cathode battery storage manufacturer Eos Energy Enterprises has reaffirmed revenue guidance and expects to achieve a positive contribution margin this year.   Gresham House turns 50MW/50MWh UK project online, 2-hour expansion nearly complete\\xa0 May 15, 2024 UK BESS owner-operator Gresham House Energy Storage Fund has put a 50MW/50MWh project into commercial operation in Lancashire.  '"
      ]
     },
     "execution_count": 4,
     "metadata": {},
     "output_type": "execute_result"
    }
   ],
   "source": [
    "news = soup.get_text()\n",
    "news.replace('\\n','')\n",
    "\n",
    "sep = 'Posts navigation'\n",
    "stripped_news = news.split(sep, 1)[0]\n",
    "stripped_news.replace('\\n','')"
   ]
  },
  {
   "cell_type": "code",
   "execution_count": null,
   "id": "8ea1a05b",
   "metadata": {},
   "outputs": [],
   "source": []
  }
 ],
 "metadata": {
  "kernelspec": {
   "display_name": "Python 3 (ipykernel)",
   "language": "python",
   "name": "python3"
  },
  "language_info": {
   "codemirror_mode": {
    "name": "ipython",
    "version": 3
   },
   "file_extension": ".py",
   "mimetype": "text/x-python",
   "name": "python",
   "nbconvert_exporter": "python",
   "pygments_lexer": "ipython3",
   "version": "3.9.13"
  }
 },
 "nbformat": 4,
 "nbformat_minor": 5
}
