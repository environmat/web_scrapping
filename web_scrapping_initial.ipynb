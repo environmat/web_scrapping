{
 "cells": [
  {
   "cell_type": "code",
   "execution_count": 6,
   "id": "c9d28036",
   "metadata": {},
   "outputs": [
    {
     "name": "stdout",
     "output_type": "stream",
     "text": [
      "[<div class=\"elementor-widget-container\">\n",
      "<a href=\"https://www.energy-storage.news/entech-eiffage-partner-build-transmission-connected-bess-projects-france/\">\n",
      "<img alt=\"EIFFAGE ENTECH FRANCE BESS\" height=\"250\" loading=\"lazy\" src=\"https://www.energy-storage.news/wp-content/uploads/elementor/thumbs/Eiffage-sub-station-qoagjzclvn3b8wx66xvwjc01if8yvl177wwhkywq10.jpeg\" title=\"Eiffage sub station\" width=\"400\"/> </a>\n",
      "</div>, <div class=\"elementor-widget-container\">\n",
      "<h2 class=\"elementor-heading-title elementor-size-default\"><a href=\"https://www.energy-storage.news/entech-eiffage-partner-build-transmission-connected-bess-projects-france/\">Entech and Eiffage partner to build transmission-connected BESS projects in France</a></h2> </div>, <div class=\"elementor-widget-container\">\n",
      "<div class=\"jet-listing jet-listing-dynamic-field display-inline\"><div class=\"jet-listing-dynamic-field__inline-wrap\"><div class=\"jet-listing-dynamic-field__content\">May 17, 2024</div></div></div> </div>, <div class=\"elementor-widget-container\">\n",
      "Construction group Eiffage and Entech have created a joint venture entity to design and build battery energy storage system (BESS) projects connected to the high-voltage network in France. </div>, <div class=\"elementor-widget-container\">\n",
      "<a href=\"https://www.energy-storage.news/romania-largest-bess-operator-showing-viable-business-local-technologies-prime/\">\n",
      "<img alt=\"Romania\" height=\"250\" loading=\"lazy\" src=\"https://www.energy-storage.news/wp-content/uploads/elementor/thumbs/Monsson-Prime-qoacy5v1zddnrpho8tqu63c7yn3zshns1dabh7e5dw.jpg\" title=\"Monsson Prime\" width=\"400\"/> </a>\n",
      "</div>, <div class=\"elementor-widget-container\">\n",
      "<div class=\"jet-listing jet-listing-dynamic-terms\"><span class=\"jet-listing-dynamic-terms__link\">Premium</span></div> </div>, <div class=\"elementor-widget-container\">\n",
      "<h2 class=\"elementor-heading-title elementor-size-default\"><a href=\"https://www.energy-storage.news/romania-largest-bess-operator-showing-viable-business-local-technologies-prime/\">Romania’s largest BESS operator: ‘showing a viable business with local technologies’</a></h2> </div>, <div class=\"elementor-widget-container\">\n",
      "<div class=\"jet-listing jet-listing-dynamic-field display-inline\"><div class=\"jet-listing-dynamic-field__inline-wrap\"><div class=\"jet-listing-dynamic-field__content\">May 17, 2024</div></div></div> </div>, <div class=\"elementor-widget-container\">\n",
      "We hear from renewables independent power producer (IPP) and energy trading firm Monsson about a recent BESS project in Romania which reportedly used nearly 100% European technologies. </div>, <div class=\"elementor-widget-container\">\n",
      "<a href=\"https://www.energy-storage.news/uk-system-operator-reassessing-outdated-capacity-market-de-rating-factors-for-storage/\">\n",
      "<img alt=\"Image: Harmony Energy.\" height=\"250\" loading=\"lazy\" src=\"https://www.energy-storage.news/wp-content/uploads/elementor/thumbs/harmony-energy-pillswood-pvtp-35-1-qbme324e35rrupp77djxa0a7cx0rdd9d05y4w6rflw.jpg\" title=\"harmony energy pillswood pvtp 35 1\" width=\"400\"/> </a>\n",
      "</div>, <div class=\"elementor-widget-container\">\n",
      "<div class=\"jet-listing jet-listing-dynamic-terms\"><span class=\"jet-listing-dynamic-terms__link\">Premium</span></div> </div>, <div class=\"elementor-widget-container\">\n",
      "<h2 class=\"elementor-heading-title elementor-size-default\"><a href=\"https://www.energy-storage.news/uk-system-operator-reassessing-outdated-capacity-market-de-rating-factors-for-storage/\">UK system operator reassessing ‘outdated’ Capacity Market de-rating factors for storage</a></h2> </div>, <div class=\"elementor-widget-container\">\n",
      "<div class=\"jet-listing jet-listing-dynamic-field display-inline\"><div class=\"jet-listing-dynamic-field__inline-wrap\"><div class=\"jet-listing-dynamic-field__content\">May 16, 2024</div></div></div> </div>, <div class=\"elementor-widget-container\">\n",
      "UK electricity market operator National Grid ESO is reassessing how much energy storage gets paid in the Capacity Market, battery storage operators told Energy-Storage.news, with one calling the current system ‘outdated’. </div>, <div class=\"elementor-widget-container\">\n",
      "<div id=\"div-gpt-ad-1619444090098-0\">\n",
      "<script>googletag.cmd.push(function() {googletag.display('div-gpt-ad-1619444090098-0');});\n",
      "    </script>\n",
      "</div> </div>, <div class=\"elementor-widget-container\">\n",
      "<a href=\"https://www.energy-storage.news/uzbekistan-voltalia-deploying-co-located-100mwh-bess-plans-1gwh-project/\">\n",
      "<img alt=\"voltalia uzbekistan\" height=\"250\" loading=\"lazy\" src=\"https://www.energy-storage.news/wp-content/uploads/elementor/thumbs/Karavasta-Solar-credit-Voltalia-qo8y2imycjztyk22rl5hwsvfph21hj5mjkfaf96w90.jpg\" title=\"Karavasta-Solar-credit-Voltalia\" width=\"400\"/> </a>\n",
      "</div>, <div class=\"elementor-widget-container\">\n",
      "<h2 class=\"elementor-heading-title elementor-size-default\"><a href=\"https://www.energy-storage.news/uzbekistan-voltalia-deploying-co-located-100mwh-bess-plans-1gwh-project/\">Uzbekistan: Voltalia deploying co-located 100MWh BESS, plans 1GWh project</a></h2> </div>, <div class=\"elementor-widget-container\">\n",
      "<div class=\"jet-listing jet-listing-dynamic-field display-inline\"><div class=\"jet-listing-dynamic-field__inline-wrap\"><div class=\"jet-listing-dynamic-field__content\">May 16, 2024</div></div></div> </div>, <div class=\"elementor-widget-container\">\n",
      "France-headquartered independent power producer (IPP) Voltalia has started building a 126MW solar PV project in Uzbekistan, to which it will add a 50MW/100MWh BESS with plans to build another project ten times as big. </div>, <div class=\"elementor-widget-container\">\n",
      "<a href=\"https://www.energy-storage.news/battery-storage-failure-incident-rate-dropped-97-between-2018-and-2023/\">\n",
      "<img alt=\"Experts investigate the root cause of the 2019 fire and explosion at a 2MW BESS in Arizona. Image: APS.\" height=\"250\" loading=\"lazy\" src=\"https://www.energy-storage.news/wp-content/uploads/elementor/thumbs/042519_McMicken-update-89_safetyOK-pb0wxq58iqct7p4d2ib7qedt4ng6vorjim6cwcwo1w.jpg\" title=\"042519_McMicken-update-89_safetyOK\" width=\"400\"/> </a>\n",
      "</div>, <div class=\"elementor-widget-container\">\n",
      "<h2 class=\"elementor-heading-title elementor-size-default\"><a href=\"https://www.energy-storage.news/battery-storage-failure-incident-rate-dropped-97-between-2018-and-2023/\">Battery storage failure incident rate dropped 97% between 2018 and 2023</a></h2> </div>, <div class=\"elementor-widget-container\">\n",
      "<div class=\"jet-listing jet-listing-dynamic-field display-inline\"><div class=\"jet-listing-dynamic-field__inline-wrap\"><div class=\"jet-listing-dynamic-field__content\">May 16, 2024</div></div></div> </div>, <div class=\"elementor-widget-container\">\n",
      "Battery storage failure incidents have dramatically decreased in frequency in the last few years, but the industry still needs to be more transparent and share data when incidents occur. </div>, <div class=\"elementor-widget-container\">\n",
      "<a href=\"https://www.energy-storage.news/infravia-acquires-dutch-belgian-developer-giga-storage/\">\n",
      "<img alt=\"Giga Storage CEO (second from left) with the owners of the site observing where the project will be built. Image: Giga Storage via Vimeo.\" height=\"250\" loading=\"lazy\" src=\"https://www.energy-storage.news/wp-content/uploads/elementor/thumbs/Giga-Storage-Green-Turtle-Belgium-qn32gsbpp3ckpvoh8gvkdl7bctd90q7fxjgkwpe5s4.jpg\" title=\"Giga Storage Green Turtle Belgium\" width=\"400\"/> </a>\n",
      "</div>, <div class=\"elementor-widget-container\">\n",
      "<h2 class=\"elementor-heading-title elementor-size-default\"><a href=\"https://www.energy-storage.news/infravia-acquires-dutch-belgian-developer-giga-storage/\">InfraVia acquires Dutch/Belgian developer Giga Storage</a></h2> </div>, <div class=\"elementor-widget-container\">\n",
      "<div class=\"jet-listing jet-listing-dynamic-field display-inline\"><div class=\"jet-listing-dynamic-field__inline-wrap\"><div class=\"jet-listing-dynamic-field__content\">May 16, 2024</div></div></div> </div>, <div class=\"elementor-widget-container\">\n",
      "Infrastructure investor InfraVia has bought a majority stake in Giga Storage, a Netherlands-headquartered BESS developer which is building a 2.4GWh project in Belgium. </div>, <div class=\"elementor-widget-container\">\n",
      "<div id=\"div-gpt-ad-1646930385796-0\">\n",
      "<script>googletag.cmd.push(function() {googletag.display('div-gpt-ad-1646930385796-0');});\n",
      "    </script>\n",
      "</div> </div>, <div class=\"elementor-widget-container\">\n",
      "<a href=\"https://www.energy-storage.news/developer-nofar-and-sungrow-deploying-230mwh-germany-bess-project/\">\n",
      "<img alt=\"Sungrow Nofar Energy Germany project deal\" height=\"250\" loading=\"lazy\" src=\"https://www.energy-storage.news/wp-content/uploads/elementor/thumbs/Sungrow-Nofar-Energy--qo8m12c8rwmq3zo6tq3xloka3vhmy9dna6bmgpvjk4.jpg\" title=\"Sungrow Nofar Energy\" width=\"400\"/> </a>\n",
      "</div>, <div class=\"elementor-widget-container\">\n",
      "<h2 class=\"elementor-heading-title elementor-size-default\"><a href=\"https://www.energy-storage.news/developer-nofar-and-sungrow-deploying-230mwh-germany-bess-project/\">Developer Nofar and Sungrow deploying 230MWh Germany BESS project</a></h2> </div>, <div class=\"elementor-widget-container\">\n",
      "<div class=\"jet-listing jet-listing-dynamic-field display-inline\"><div class=\"jet-listing-dynamic-field__inline-wrap\"><div class=\"jet-listing-dynamic-field__content\">May 16, 2024</div></div></div> </div>, <div class=\"elementor-widget-container\">\n",
      "Inverter and BESS company Sungrow has signed a deal with developer Nofar Energy for a 230MWh project in Saxony-Anhalt, Germany. </div>, <div class=\"elementor-widget-container\">\n",
      "<a href=\"https://www.energy-storage.news/growth-in-production-will-keep-lithium-carbonate-prices-below-2022s-peak-says-bmi/\">\n",
      "<img alt=\"RWE US\" height=\"250\" loading=\"lazy\" src=\"https://www.energy-storage.news/wp-content/uploads/elementor/thumbs/2024-02-14-rwe-supercharges-us-battery-storage-platform-with-three-new-projects-image-3-qjuau4hvrt2xtlwr0gh2wurah8xsc8yvkb23xivgzo.jpg\" title=\"2024-02-14-rwe-supercharges-us-battery-storage-platform-with-three-new-projects-image-3\" width=\"400\"/> </a>\n",
      "</div>, <div class=\"elementor-widget-container\">\n",
      "<h2 class=\"elementor-heading-title elementor-size-default\"><a href=\"https://www.energy-storage.news/growth-in-production-will-keep-lithium-carbonate-prices-below-2022s-peak-says-bmi/\">Growth in production will keep lithium carbonate prices below 2022’s peak, says BMI</a></h2> </div>, <div class=\"elementor-widget-container\">\n",
      "<div class=\"jet-listing jet-listing-dynamic-field display-inline\"><div class=\"jet-listing-dynamic-field__inline-wrap\"><div class=\"jet-listing-dynamic-field__content\">May 16, 2024</div></div></div> </div>, <div class=\"elementor-widget-container\">\n",
      "Battery storage project development costs will continue to fall in 2024 as lithium costs decline “significantly,” according to BMI Research. </div>, <div class=\"elementor-widget-container\">\n",
      "<a href=\"https://www.energy-storage.news/zinc-battery-player-eos-says-cost-reductions-automated-production-will-fuel-profitability-shift-in-2024/\">\n",
      "<img alt=\"eos energy enterprises financial results\" height=\"250\" loading=\"lazy\" src=\"https://www.energy-storage.news/wp-content/uploads/elementor/thumbs/eos-q2vd9nv2tlqvu9ryq6mb0v8rqywoof22u9svk1v5c4.jpg\" title=\"eos\" width=\"400\"/> </a>\n",
      "</div>, <div class=\"elementor-widget-container\">\n",
      "<h2 class=\"elementor-heading-title elementor-size-default\"><a href=\"https://www.energy-storage.news/zinc-battery-player-eos-says-cost-reductions-automated-production-will-fuel-profitability-shift-in-2024/\">Zinc battery player Eos says cost reductions, automated production will fuel profitability shift in 2024</a></h2> </div>, <div class=\"elementor-widget-container\">\n",
      "<div class=\"jet-listing jet-listing-dynamic-field display-inline\"><div class=\"jet-listing-dynamic-field__inline-wrap\"><div class=\"jet-listing-dynamic-field__content\">May 15, 2024</div></div></div> </div>, <div class=\"elementor-widget-container\">\n",
      "US zinc hybrid cathode battery storage manufacturer Eos Energy Enterprises has reaffirmed revenue guidance and expects to achieve a positive contribution margin this year. </div>, <div class=\"elementor-widget-container\">\n",
      "<a href=\"https://www.energy-storage.news/gresham-house-50mw-50mwh-uk-online-2-hour-expansion/\">\n",
      "<img alt=\"gresham house\" height=\"250\" loading=\"lazy\" src=\"https://www.energy-storage.news/wp-content/uploads/elementor/thumbs/Glassenbury_battery_storage_park_3_-_Gresham_House-pb0ztqy8uor6260tnh0vo5e7rqqiptq5th8suqo7gk.jpg\" title=\"Glassenbury_battery_storage_park_3_-_Gresham_House\" width=\"400\"/> </a>\n",
      "</div>, <div class=\"elementor-widget-container\">\n",
      "<h2 class=\"elementor-heading-title elementor-size-default\"><a href=\"https://www.energy-storage.news/gresham-house-50mw-50mwh-uk-online-2-hour-expansion/\">Gresham House turns 50MW/50MWh UK project online, 2-hour expansion nearly complete </a></h2> </div>, <div class=\"elementor-widget-container\">\n",
      "<div class=\"jet-listing jet-listing-dynamic-field display-inline\"><div class=\"jet-listing-dynamic-field__inline-wrap\"><div class=\"jet-listing-dynamic-field__content\">May 15, 2024</div></div></div> </div>, <div class=\"elementor-widget-container\">\n",
      "UK BESS owner-operator Gresham House Energy Storage Fund has put a 50MW/50MWh project into commercial operation in Lancashire. </div>, <div class=\"elementor-widget-container\">\n",
      "<h3 class=\"elementor-heading-title elementor-size-default\"><a href=\"https://www.energy-storage.news/ontario-makes-canadas-biggest-ever-battery-storage-procurement-to-meet-target/\">Ontario makes Canada’s biggest-ever battery storage procurement to meet target</a></h3> </div>, <div class=\"elementor-widget-container\">\n",
      "<h3 class=\"elementor-heading-title elementor-size-default\"><a href=\"https://www.energy-storage.news/us-increases-tariffs-on-batteries-from-china-to-25/\">US increases tariffs on batteries from China to 25%</a></h3> </div>, <div class=\"elementor-widget-container\">\n",
      "<h3 class=\"elementor-heading-title elementor-size-default\"><a href=\"https://www.energy-storage.news/us-utility-dte-energy-issues-standalone-energy-storage-rfp-in-michigan/\">US utility DTE Energy issues standalone energy storage RFP in Michigan</a></h3> </div>, <div class=\"elementor-widget-container\">\n",
      "<h3 class=\"elementor-heading-title elementor-size-default\"><a href=\"https://www.energy-storage.news/us-doe-seeks-feedback-on-energy-storage-safety-training-manufacturing-challenges/\">US DOE seeks feedback on energy storage safety training, manufacturing challenges</a></h3> </div>, <div class=\"elementor-widget-container\">\n",
      "<div class=\"jet-listing jet-listing-dynamic-terms\"><span class=\"jet-listing-dynamic-terms__link\">Premium</span></div> </div>, <div class=\"elementor-widget-container\">\n",
      "<h3 class=\"elementor-heading-title elementor-size-default\"><a href=\"https://www.energy-storage.news/uk-system-operator-reassessing-outdated-capacity-market-de-rating-factors-for-storage/\">UK system operator reassessing ‘outdated’ Capacity Market de-rating factors for storage</a></h3> </div>, <div class=\"elementor-widget-container\">\n",
      "<h3 class=\"elementor-heading-title elementor-size-default\"><a href=\"https://www.energy-storage.news/zinc-battery-player-eos-says-cost-reductions-automated-production-will-fuel-profitability-shift-in-2024/\">Zinc battery player Eos says cost reductions, automated production will fuel profitability shift in 2024</a></h3> </div>, <div class=\"elementor-widget-container\">\n",
      "<h3 class=\"elementor-heading-title elementor-size-default\"><a href=\"https://storageaustralia.solarenergyevents.com/\" target=\"_blank\">Energy Storage Summit Australia 2024</a></h3> </div>, <div class=\"elementor-widget-container\">\n",
      "<div class=\"jet-listing jet-listing-dynamic-field display-inline\"><div class=\"jet-listing-dynamic-field__inline-wrap\"><div class=\"jet-listing-dynamic-field__content\">May 21</div></div></div> </div>, <div class=\"elementor-widget-container\">\n",
      "<div class=\"jet-listing jet-listing-dynamic-field display-inline\"><div class=\"jet-listing-dynamic-field__inline-wrap\"><div class=\"jet-listing-dynamic-field__content\"> - May 22</div></div></div> </div>, <div class=\"elementor-widget-container\">\n",
      "<div class=\"jet-listing jet-listing-dynamic-field display-inline\"><div class=\"jet-listing-dynamic-field__inline-wrap\"><div class=\"jet-listing-dynamic-field__content\">, 2024</div></div></div> </div>, <div class=\"elementor-widget-container\">\n",
      "<div class=\"jet-listing jet-listing-dynamic-field display-inline\"><div class=\"jet-listing-dynamic-field__inline-wrap\"><div class=\"jet-listing-dynamic-field__content\">Sydney, Australia</div></div></div> </div>, <div class=\"elementor-widget-container\">\n",
      "<h3 class=\"elementor-heading-title elementor-size-default\"><a href=\"https://www.pvtechconferences.com/pv-moduletech-usa/?utm_source=calendar&amp;utm_medium=website&amp;utm_campaign=continual\" target=\"_blank\">PV ModuleTech USA 2024</a></h3> </div>, <div class=\"elementor-widget-container\">\n",
      "<div class=\"jet-listing jet-listing-dynamic-field display-inline\"><div class=\"jet-listing-dynamic-field__inline-wrap\"><div class=\"jet-listing-dynamic-field__content\">May 21</div></div></div> </div>, <div class=\"elementor-widget-container\">\n",
      "<div class=\"jet-listing jet-listing-dynamic-field display-inline\"><div class=\"jet-listing-dynamic-field__inline-wrap\"><div class=\"jet-listing-dynamic-field__content\"> - May 22</div></div></div> </div>, <div class=\"elementor-widget-container\">\n",
      "<div class=\"jet-listing jet-listing-dynamic-field display-inline\"><div class=\"jet-listing-dynamic-field__inline-wrap\"><div class=\"jet-listing-dynamic-field__content\">, 2024</div></div></div> </div>, <div class=\"elementor-widget-container\">\n",
      "<div class=\"jet-listing jet-listing-dynamic-field display-inline\"><div class=\"jet-listing-dynamic-field__inline-wrap\"><div class=\"jet-listing-dynamic-field__content\">Napa, USA</div></div></div> </div>, <div class=\"elementor-widget-container\">\n",
      "<h3 class=\"elementor-heading-title elementor-size-default\"><a href=\"https://renewablerevenue.co.uk/\" target=\"_blank\">Renewable Energy Revenues Summit 2024</a></h3> </div>, <div class=\"elementor-widget-container\">\n",
      "<div class=\"jet-listing jet-listing-dynamic-field display-inline\"><div class=\"jet-listing-dynamic-field__inline-wrap\"><div class=\"jet-listing-dynamic-field__content\">May 22</div></div></div> </div>, <div class=\"elementor-widget-container\">\n",
      "<div class=\"jet-listing jet-listing-dynamic-field display-inline\"><div class=\"jet-listing-dynamic-field__inline-wrap\"><div class=\"jet-listing-dynamic-field__content\"> - May 23</div></div></div> </div>, <div class=\"elementor-widget-container\">\n",
      "<div class=\"jet-listing jet-listing-dynamic-field display-inline\"><div class=\"jet-listing-dynamic-field__inline-wrap\"><div class=\"jet-listing-dynamic-field__content\">, 2024</div></div></div> </div>, <div class=\"elementor-widget-container\">\n",
      "<div class=\"jet-listing jet-listing-dynamic-field display-inline\"><div class=\"jet-listing-dynamic-field__inline-wrap\"><div class=\"jet-listing-dynamic-field__content\">London, UK </div></div></div> </div>, <div class=\"elementor-widget-container\">\n",
      "<h3 class=\"elementor-heading-title elementor-size-default\"><a href=\"https://acore.org/events/finance-forum/\" target=\"_blank\">ACORE Finance Forum 2024</a></h3> </div>, <div class=\"elementor-widget-container\">\n",
      "<div class=\"jet-listing jet-listing-dynamic-field display-inline\"><div class=\"jet-listing-dynamic-field__inline-wrap\"><div class=\"jet-listing-dynamic-field__content\">June 4</div></div></div> </div>, <div class=\"elementor-widget-container\">\n",
      "<div class=\"jet-listing jet-listing-dynamic-field display-inline\"><div class=\"jet-listing-dynamic-field__inline-wrap\"><div class=\"jet-listing-dynamic-field__content\"> - June 5</div></div></div> </div>, <div class=\"elementor-widget-container\">\n",
      "<div class=\"jet-listing jet-listing-dynamic-field display-inline\"><div class=\"jet-listing-dynamic-field__inline-wrap\"><div class=\"jet-listing-dynamic-field__content\">, 2024</div></div></div> </div>, <div class=\"elementor-widget-container\">\n",
      "<div class=\"jet-listing jet-listing-dynamic-field display-inline\"><div class=\"jet-listing-dynamic-field__inline-wrap\"><div class=\"jet-listing-dynamic-field__content\">New York, USA</div></div></div> </div>, <div class=\"elementor-widget-container\">\n",
      "<h3 class=\"elementor-heading-title elementor-size-default\"><a href=\"https://app.livestorm.co/solar-media/optimising-bess-returns-the-crucial-role-of-battery-analytics-in-asset-management-strategies?utm_source=ESN&amp;utm_medium=event-listings\" target=\"_blank\">Optimising BESS Returns: The crucial role of Battery Analytics in Asset Management strategies</a></h3> </div>, <div class=\"elementor-widget-container\">\n",
      "<div class=\"jet-listing jet-listing-dynamic-field display-inline\"><div class=\"jet-listing-dynamic-field__inline-wrap\"><div class=\"jet-listing-dynamic-field__content\">June 5</div></div></div> </div>, <div class=\"elementor-widget-container\">\n",
      "<div class=\"jet-listing jet-listing-dynamic-field display-inline\"><div class=\"jet-listing-dynamic-field__inline-wrap\"><div class=\"jet-listing-dynamic-field__content\"> - June 5</div></div></div> </div>, <div class=\"elementor-widget-container\">\n",
      "<div class=\"jet-listing jet-listing-dynamic-field display-inline\"><div class=\"jet-listing-dynamic-field__inline-wrap\"><div class=\"jet-listing-dynamic-field__content\">, 2024</div></div></div> </div>, <div class=\"elementor-widget-container\">\n",
      "<div class=\"jet-listing jet-listing-dynamic-field display-inline\"><div class=\"jet-listing-dynamic-field__inline-wrap\"><div class=\"jet-listing-dynamic-field__content\">8am (PDT) / 11am (EDT) / 5pm (CEST)</div></div></div> </div>, <div class=\"elementor-widget-container\">\n",
      "<h3 class=\"elementor-heading-title elementor-size-default\"><a href=\"https://register.thebatteryshow.eu/tCtFXM\" target=\"_blank\">The Battery Show Europe 2024</a></h3> </div>, <div class=\"elementor-widget-container\">\n",
      "<div class=\"jet-listing jet-listing-dynamic-field display-inline\"><div class=\"jet-listing-dynamic-field__inline-wrap\"><div class=\"jet-listing-dynamic-field__content\">June 18</div></div></div> </div>, <div class=\"elementor-widget-container\">\n",
      "<div class=\"jet-listing jet-listing-dynamic-field display-inline\"><div class=\"jet-listing-dynamic-field__inline-wrap\"><div class=\"jet-listing-dynamic-field__content\"> - June 20</div></div></div> </div>, <div class=\"elementor-widget-container\">\n",
      "<div class=\"jet-listing jet-listing-dynamic-field display-inline\"><div class=\"jet-listing-dynamic-field__inline-wrap\"><div class=\"jet-listing-dynamic-field__content\">, 2024</div></div></div> </div>, <div class=\"elementor-widget-container\">\n",
      "<div class=\"jet-listing jet-listing-dynamic-field display-inline\"><div class=\"jet-listing-dynamic-field__inline-wrap\"><div class=\"jet-listing-dynamic-field__content\">Messe Stuttgart Stuttgart, Germany</div></div></div> </div>]\n",
      "<div class=\"elementor-widget-container\">\n",
      "<a href=\"https://www.energy-storage.news/entech-eiffage-partner-build-transmission-connected-bess-projects-france/\">\n",
      "<img alt=\"EIFFAGE ENTECH FRANCE BESS\" height=\"250\" loading=\"lazy\" src=\"https://www.energy-storage.news/wp-content/uploads/elementor/thumbs/Eiffage-sub-station-qoagjzclvn3b8wx66xvwjc01if8yvl177wwhkywq10.jpeg\" title=\"Eiffage sub station\" width=\"400\"/> </a>\n",
      "</div>\n",
      "<div class=\"elementor-widget-container\">\n",
      "<h2 class=\"elementor-heading-title elementor-size-default\"><a href=\"https://www.energy-storage.news/entech-eiffage-partner-build-transmission-connected-bess-projects-france/\">Entech and Eiffage partner to build transmission-connected BESS projects in France</a></h2> </div>\n",
      "<div class=\"elementor-widget-container\">\n",
      "<div class=\"jet-listing jet-listing-dynamic-field display-inline\"><div class=\"jet-listing-dynamic-field__inline-wrap\"><div class=\"jet-listing-dynamic-field__content\">May 17, 2024</div></div></div> </div>\n",
      "<div class=\"elementor-widget-container\">\n",
      "Construction group Eiffage and Entech have created a joint venture entity to design and build battery energy storage system (BESS) projects connected to the high-voltage network in France. </div>\n",
      "<div class=\"elementor-widget-container\">\n",
      "<a href=\"https://www.energy-storage.news/romania-largest-bess-operator-showing-viable-business-local-technologies-prime/\">\n",
      "<img alt=\"Romania\" height=\"250\" loading=\"lazy\" src=\"https://www.energy-storage.news/wp-content/uploads/elementor/thumbs/Monsson-Prime-qoacy5v1zddnrpho8tqu63c7yn3zshns1dabh7e5dw.jpg\" title=\"Monsson Prime\" width=\"400\"/> </a>\n",
      "</div>\n",
      "<div class=\"elementor-widget-container\">\n",
      "<div class=\"jet-listing jet-listing-dynamic-terms\"><span class=\"jet-listing-dynamic-terms__link\">Premium</span></div> </div>\n",
      "<div class=\"elementor-widget-container\">\n",
      "<h2 class=\"elementor-heading-title elementor-size-default\"><a href=\"https://www.energy-storage.news/romania-largest-bess-operator-showing-viable-business-local-technologies-prime/\">Romania’s largest BESS operator: ‘showing a viable business with local technologies’</a></h2> </div>\n",
      "<div class=\"elementor-widget-container\">\n",
      "<div class=\"jet-listing jet-listing-dynamic-field display-inline\"><div class=\"jet-listing-dynamic-field__inline-wrap\"><div class=\"jet-listing-dynamic-field__content\">May 17, 2024</div></div></div> </div>\n",
      "<div class=\"elementor-widget-container\">\n",
      "We hear from renewables independent power producer (IPP) and energy trading firm Monsson about a recent BESS project in Romania which reportedly used nearly 100% European technologies. </div>\n",
      "<div class=\"elementor-widget-container\">\n",
      "<a href=\"https://www.energy-storage.news/uk-system-operator-reassessing-outdated-capacity-market-de-rating-factors-for-storage/\">\n",
      "<img alt=\"Image: Harmony Energy.\" height=\"250\" loading=\"lazy\" src=\"https://www.energy-storage.news/wp-content/uploads/elementor/thumbs/harmony-energy-pillswood-pvtp-35-1-qbme324e35rrupp77djxa0a7cx0rdd9d05y4w6rflw.jpg\" title=\"harmony energy pillswood pvtp 35 1\" width=\"400\"/> </a>\n",
      "</div>\n",
      "<div class=\"elementor-widget-container\">\n",
      "<div class=\"jet-listing jet-listing-dynamic-terms\"><span class=\"jet-listing-dynamic-terms__link\">Premium</span></div> </div>\n",
      "<div class=\"elementor-widget-container\">\n",
      "<h2 class=\"elementor-heading-title elementor-size-default\"><a href=\"https://www.energy-storage.news/uk-system-operator-reassessing-outdated-capacity-market-de-rating-factors-for-storage/\">UK system operator reassessing ‘outdated’ Capacity Market de-rating factors for storage</a></h2> </div>\n",
      "<div class=\"elementor-widget-container\">\n",
      "<div class=\"jet-listing jet-listing-dynamic-field display-inline\"><div class=\"jet-listing-dynamic-field__inline-wrap\"><div class=\"jet-listing-dynamic-field__content\">May 16, 2024</div></div></div> </div>\n",
      "<div class=\"elementor-widget-container\">\n",
      "UK electricity market operator National Grid ESO is reassessing how much energy storage gets paid in the Capacity Market, battery storage operators told Energy-Storage.news, with one calling the current system ‘outdated’. </div>\n",
      "<div class=\"elementor-widget-container\">\n",
      "<div id=\"div-gpt-ad-1619444090098-0\">\n",
      "<script>googletag.cmd.push(function() {googletag.display('div-gpt-ad-1619444090098-0');});\n",
      "    </script>\n",
      "</div> </div>\n",
      "<div class=\"elementor-widget-container\">\n",
      "<a href=\"https://www.energy-storage.news/uzbekistan-voltalia-deploying-co-located-100mwh-bess-plans-1gwh-project/\">\n",
      "<img alt=\"voltalia uzbekistan\" height=\"250\" loading=\"lazy\" src=\"https://www.energy-storage.news/wp-content/uploads/elementor/thumbs/Karavasta-Solar-credit-Voltalia-qo8y2imycjztyk22rl5hwsvfph21hj5mjkfaf96w90.jpg\" title=\"Karavasta-Solar-credit-Voltalia\" width=\"400\"/> </a>\n",
      "</div>\n",
      "<div class=\"elementor-widget-container\">\n",
      "<h2 class=\"elementor-heading-title elementor-size-default\"><a href=\"https://www.energy-storage.news/uzbekistan-voltalia-deploying-co-located-100mwh-bess-plans-1gwh-project/\">Uzbekistan: Voltalia deploying co-located 100MWh BESS, plans 1GWh project</a></h2> </div>\n",
      "<div class=\"elementor-widget-container\">\n",
      "<div class=\"jet-listing jet-listing-dynamic-field display-inline\"><div class=\"jet-listing-dynamic-field__inline-wrap\"><div class=\"jet-listing-dynamic-field__content\">May 16, 2024</div></div></div> </div>\n",
      "<div class=\"elementor-widget-container\">\n",
      "France-headquartered independent power producer (IPP) Voltalia has started building a 126MW solar PV project in Uzbekistan, to which it will add a 50MW/100MWh BESS with plans to build another project ten times as big. </div>\n",
      "<div class=\"elementor-widget-container\">\n",
      "<a href=\"https://www.energy-storage.news/battery-storage-failure-incident-rate-dropped-97-between-2018-and-2023/\">\n",
      "<img alt=\"Experts investigate the root cause of the 2019 fire and explosion at a 2MW BESS in Arizona. Image: APS.\" height=\"250\" loading=\"lazy\" src=\"https://www.energy-storage.news/wp-content/uploads/elementor/thumbs/042519_McMicken-update-89_safetyOK-pb0wxq58iqct7p4d2ib7qedt4ng6vorjim6cwcwo1w.jpg\" title=\"042519_McMicken-update-89_safetyOK\" width=\"400\"/> </a>\n",
      "</div>\n",
      "<div class=\"elementor-widget-container\">\n",
      "<h2 class=\"elementor-heading-title elementor-size-default\"><a href=\"https://www.energy-storage.news/battery-storage-failure-incident-rate-dropped-97-between-2018-and-2023/\">Battery storage failure incident rate dropped 97% between 2018 and 2023</a></h2> </div>\n",
      "<div class=\"elementor-widget-container\">\n",
      "<div class=\"jet-listing jet-listing-dynamic-field display-inline\"><div class=\"jet-listing-dynamic-field__inline-wrap\"><div class=\"jet-listing-dynamic-field__content\">May 16, 2024</div></div></div> </div>\n",
      "<div class=\"elementor-widget-container\">\n",
      "Battery storage failure incidents have dramatically decreased in frequency in the last few years, but the industry still needs to be more transparent and share data when incidents occur. </div>\n",
      "<div class=\"elementor-widget-container\">\n",
      "<a href=\"https://www.energy-storage.news/infravia-acquires-dutch-belgian-developer-giga-storage/\">\n",
      "<img alt=\"Giga Storage CEO (second from left) with the owners of the site observing where the project will be built. Image: Giga Storage via Vimeo.\" height=\"250\" loading=\"lazy\" src=\"https://www.energy-storage.news/wp-content/uploads/elementor/thumbs/Giga-Storage-Green-Turtle-Belgium-qn32gsbpp3ckpvoh8gvkdl7bctd90q7fxjgkwpe5s4.jpg\" title=\"Giga Storage Green Turtle Belgium\" width=\"400\"/> </a>\n",
      "</div>\n",
      "<div class=\"elementor-widget-container\">\n",
      "<h2 class=\"elementor-heading-title elementor-size-default\"><a href=\"https://www.energy-storage.news/infravia-acquires-dutch-belgian-developer-giga-storage/\">InfraVia acquires Dutch/Belgian developer Giga Storage</a></h2> </div>\n",
      "<div class=\"elementor-widget-container\">\n",
      "<div class=\"jet-listing jet-listing-dynamic-field display-inline\"><div class=\"jet-listing-dynamic-field__inline-wrap\"><div class=\"jet-listing-dynamic-field__content\">May 16, 2024</div></div></div> </div>\n",
      "<div class=\"elementor-widget-container\">\n",
      "Infrastructure investor InfraVia has bought a majority stake in Giga Storage, a Netherlands-headquartered BESS developer which is building a 2.4GWh project in Belgium. </div>\n",
      "<div class=\"elementor-widget-container\">\n",
      "<div id=\"div-gpt-ad-1646930385796-0\">\n",
      "<script>googletag.cmd.push(function() {googletag.display('div-gpt-ad-1646930385796-0');});\n",
      "    </script>\n",
      "</div> </div>\n",
      "<div class=\"elementor-widget-container\">\n",
      "<a href=\"https://www.energy-storage.news/developer-nofar-and-sungrow-deploying-230mwh-germany-bess-project/\">\n",
      "<img alt=\"Sungrow Nofar Energy Germany project deal\" height=\"250\" loading=\"lazy\" src=\"https://www.energy-storage.news/wp-content/uploads/elementor/thumbs/Sungrow-Nofar-Energy--qo8m12c8rwmq3zo6tq3xloka3vhmy9dna6bmgpvjk4.jpg\" title=\"Sungrow Nofar Energy\" width=\"400\"/> </a>\n",
      "</div>\n",
      "<div class=\"elementor-widget-container\">\n",
      "<h2 class=\"elementor-heading-title elementor-size-default\"><a href=\"https://www.energy-storage.news/developer-nofar-and-sungrow-deploying-230mwh-germany-bess-project/\">Developer Nofar and Sungrow deploying 230MWh Germany BESS project</a></h2> </div>\n",
      "<div class=\"elementor-widget-container\">\n",
      "<div class=\"jet-listing jet-listing-dynamic-field display-inline\"><div class=\"jet-listing-dynamic-field__inline-wrap\"><div class=\"jet-listing-dynamic-field__content\">May 16, 2024</div></div></div> </div>\n",
      "<div class=\"elementor-widget-container\">\n",
      "Inverter and BESS company Sungrow has signed a deal with developer Nofar Energy for a 230MWh project in Saxony-Anhalt, Germany. </div>\n",
      "<div class=\"elementor-widget-container\">\n",
      "<a href=\"https://www.energy-storage.news/growth-in-production-will-keep-lithium-carbonate-prices-below-2022s-peak-says-bmi/\">\n",
      "<img alt=\"RWE US\" height=\"250\" loading=\"lazy\" src=\"https://www.energy-storage.news/wp-content/uploads/elementor/thumbs/2024-02-14-rwe-supercharges-us-battery-storage-platform-with-three-new-projects-image-3-qjuau4hvrt2xtlwr0gh2wurah8xsc8yvkb23xivgzo.jpg\" title=\"2024-02-14-rwe-supercharges-us-battery-storage-platform-with-three-new-projects-image-3\" width=\"400\"/> </a>\n",
      "</div>\n",
      "<div class=\"elementor-widget-container\">\n",
      "<h2 class=\"elementor-heading-title elementor-size-default\"><a href=\"https://www.energy-storage.news/growth-in-production-will-keep-lithium-carbonate-prices-below-2022s-peak-says-bmi/\">Growth in production will keep lithium carbonate prices below 2022’s peak, says BMI</a></h2> </div>\n",
      "<div class=\"elementor-widget-container\">\n",
      "<div class=\"jet-listing jet-listing-dynamic-field display-inline\"><div class=\"jet-listing-dynamic-field__inline-wrap\"><div class=\"jet-listing-dynamic-field__content\">May 16, 2024</div></div></div> </div>\n",
      "<div class=\"elementor-widget-container\">\n",
      "Battery storage project development costs will continue to fall in 2024 as lithium costs decline “significantly,” according to BMI Research. </div>\n",
      "<div class=\"elementor-widget-container\">\n",
      "<a href=\"https://www.energy-storage.news/zinc-battery-player-eos-says-cost-reductions-automated-production-will-fuel-profitability-shift-in-2024/\">\n",
      "<img alt=\"eos energy enterprises financial results\" height=\"250\" loading=\"lazy\" src=\"https://www.energy-storage.news/wp-content/uploads/elementor/thumbs/eos-q2vd9nv2tlqvu9ryq6mb0v8rqywoof22u9svk1v5c4.jpg\" title=\"eos\" width=\"400\"/> </a>\n",
      "</div>\n",
      "<div class=\"elementor-widget-container\">\n",
      "<h2 class=\"elementor-heading-title elementor-size-default\"><a href=\"https://www.energy-storage.news/zinc-battery-player-eos-says-cost-reductions-automated-production-will-fuel-profitability-shift-in-2024/\">Zinc battery player Eos says cost reductions, automated production will fuel profitability shift in 2024</a></h2> </div>\n",
      "<div class=\"elementor-widget-container\">\n",
      "<div class=\"jet-listing jet-listing-dynamic-field display-inline\"><div class=\"jet-listing-dynamic-field__inline-wrap\"><div class=\"jet-listing-dynamic-field__content\">May 15, 2024</div></div></div> </div>\n",
      "<div class=\"elementor-widget-container\">\n",
      "US zinc hybrid cathode battery storage manufacturer Eos Energy Enterprises has reaffirmed revenue guidance and expects to achieve a positive contribution margin this year. </div>\n",
      "<div class=\"elementor-widget-container\">\n",
      "<a href=\"https://www.energy-storage.news/gresham-house-50mw-50mwh-uk-online-2-hour-expansion/\">\n",
      "<img alt=\"gresham house\" height=\"250\" loading=\"lazy\" src=\"https://www.energy-storage.news/wp-content/uploads/elementor/thumbs/Glassenbury_battery_storage_park_3_-_Gresham_House-pb0ztqy8uor6260tnh0vo5e7rqqiptq5th8suqo7gk.jpg\" title=\"Glassenbury_battery_storage_park_3_-_Gresham_House\" width=\"400\"/> </a>\n",
      "</div>\n",
      "<div class=\"elementor-widget-container\">\n",
      "<h2 class=\"elementor-heading-title elementor-size-default\"><a href=\"https://www.energy-storage.news/gresham-house-50mw-50mwh-uk-online-2-hour-expansion/\">Gresham House turns 50MW/50MWh UK project online, 2-hour expansion nearly complete </a></h2> </div>\n",
      "<div class=\"elementor-widget-container\">\n",
      "<div class=\"jet-listing jet-listing-dynamic-field display-inline\"><div class=\"jet-listing-dynamic-field__inline-wrap\"><div class=\"jet-listing-dynamic-field__content\">May 15, 2024</div></div></div> </div>\n",
      "<div class=\"elementor-widget-container\">\n",
      "UK BESS owner-operator Gresham House Energy Storage Fund has put a 50MW/50MWh project into commercial operation in Lancashire. </div>\n",
      "<div class=\"elementor-widget-container\">\n",
      "<h3 class=\"elementor-heading-title elementor-size-default\"><a href=\"https://www.energy-storage.news/ontario-makes-canadas-biggest-ever-battery-storage-procurement-to-meet-target/\">Ontario makes Canada’s biggest-ever battery storage procurement to meet target</a></h3> </div>\n",
      "<div class=\"elementor-widget-container\">\n",
      "<h3 class=\"elementor-heading-title elementor-size-default\"><a href=\"https://www.energy-storage.news/us-increases-tariffs-on-batteries-from-china-to-25/\">US increases tariffs on batteries from China to 25%</a></h3> </div>\n",
      "<div class=\"elementor-widget-container\">\n",
      "<h3 class=\"elementor-heading-title elementor-size-default\"><a href=\"https://www.energy-storage.news/us-utility-dte-energy-issues-standalone-energy-storage-rfp-in-michigan/\">US utility DTE Energy issues standalone energy storage RFP in Michigan</a></h3> </div>\n",
      "<div class=\"elementor-widget-container\">\n",
      "<h3 class=\"elementor-heading-title elementor-size-default\"><a href=\"https://www.energy-storage.news/us-doe-seeks-feedback-on-energy-storage-safety-training-manufacturing-challenges/\">US DOE seeks feedback on energy storage safety training, manufacturing challenges</a></h3> </div>\n",
      "<div class=\"elementor-widget-container\">\n",
      "<div class=\"jet-listing jet-listing-dynamic-terms\"><span class=\"jet-listing-dynamic-terms__link\">Premium</span></div> </div>\n",
      "<div class=\"elementor-widget-container\">\n",
      "<h3 class=\"elementor-heading-title elementor-size-default\"><a href=\"https://www.energy-storage.news/uk-system-operator-reassessing-outdated-capacity-market-de-rating-factors-for-storage/\">UK system operator reassessing ‘outdated’ Capacity Market de-rating factors for storage</a></h3> </div>\n",
      "<div class=\"elementor-widget-container\">\n",
      "<h3 class=\"elementor-heading-title elementor-size-default\"><a href=\"https://www.energy-storage.news/zinc-battery-player-eos-says-cost-reductions-automated-production-will-fuel-profitability-shift-in-2024/\">Zinc battery player Eos says cost reductions, automated production will fuel profitability shift in 2024</a></h3> </div>\n",
      "<div class=\"elementor-widget-container\">\n",
      "<h3 class=\"elementor-heading-title elementor-size-default\"><a href=\"https://storageaustralia.solarenergyevents.com/\" target=\"_blank\">Energy Storage Summit Australia 2024</a></h3> </div>\n",
      "<div class=\"elementor-widget-container\">\n",
      "<div class=\"jet-listing jet-listing-dynamic-field display-inline\"><div class=\"jet-listing-dynamic-field__inline-wrap\"><div class=\"jet-listing-dynamic-field__content\">May 21</div></div></div> </div>\n",
      "<div class=\"elementor-widget-container\">\n",
      "<div class=\"jet-listing jet-listing-dynamic-field display-inline\"><div class=\"jet-listing-dynamic-field__inline-wrap\"><div class=\"jet-listing-dynamic-field__content\"> - May 22</div></div></div> </div>\n",
      "<div class=\"elementor-widget-container\">\n",
      "<div class=\"jet-listing jet-listing-dynamic-field display-inline\"><div class=\"jet-listing-dynamic-field__inline-wrap\"><div class=\"jet-listing-dynamic-field__content\">, 2024</div></div></div> </div>\n",
      "<div class=\"elementor-widget-container\">\n",
      "<div class=\"jet-listing jet-listing-dynamic-field display-inline\"><div class=\"jet-listing-dynamic-field__inline-wrap\"><div class=\"jet-listing-dynamic-field__content\">Sydney, Australia</div></div></div> </div>\n",
      "<div class=\"elementor-widget-container\">\n",
      "<h3 class=\"elementor-heading-title elementor-size-default\"><a href=\"https://www.pvtechconferences.com/pv-moduletech-usa/?utm_source=calendar&amp;utm_medium=website&amp;utm_campaign=continual\" target=\"_blank\">PV ModuleTech USA 2024</a></h3> </div>\n",
      "<div class=\"elementor-widget-container\">\n",
      "<div class=\"jet-listing jet-listing-dynamic-field display-inline\"><div class=\"jet-listing-dynamic-field__inline-wrap\"><div class=\"jet-listing-dynamic-field__content\">May 21</div></div></div> </div>\n",
      "<div class=\"elementor-widget-container\">\n",
      "<div class=\"jet-listing jet-listing-dynamic-field display-inline\"><div class=\"jet-listing-dynamic-field__inline-wrap\"><div class=\"jet-listing-dynamic-field__content\"> - May 22</div></div></div> </div>\n",
      "<div class=\"elementor-widget-container\">\n",
      "<div class=\"jet-listing jet-listing-dynamic-field display-inline\"><div class=\"jet-listing-dynamic-field__inline-wrap\"><div class=\"jet-listing-dynamic-field__content\">, 2024</div></div></div> </div>\n",
      "<div class=\"elementor-widget-container\">\n",
      "<div class=\"jet-listing jet-listing-dynamic-field display-inline\"><div class=\"jet-listing-dynamic-field__inline-wrap\"><div class=\"jet-listing-dynamic-field__content\">Napa, USA</div></div></div> </div>\n",
      "<div class=\"elementor-widget-container\">\n",
      "<h3 class=\"elementor-heading-title elementor-size-default\"><a href=\"https://renewablerevenue.co.uk/\" target=\"_blank\">Renewable Energy Revenues Summit 2024</a></h3> </div>\n",
      "<div class=\"elementor-widget-container\">\n",
      "<div class=\"jet-listing jet-listing-dynamic-field display-inline\"><div class=\"jet-listing-dynamic-field__inline-wrap\"><div class=\"jet-listing-dynamic-field__content\">May 22</div></div></div> </div>\n",
      "<div class=\"elementor-widget-container\">\n",
      "<div class=\"jet-listing jet-listing-dynamic-field display-inline\"><div class=\"jet-listing-dynamic-field__inline-wrap\"><div class=\"jet-listing-dynamic-field__content\"> - May 23</div></div></div> </div>\n",
      "<div class=\"elementor-widget-container\">\n",
      "<div class=\"jet-listing jet-listing-dynamic-field display-inline\"><div class=\"jet-listing-dynamic-field__inline-wrap\"><div class=\"jet-listing-dynamic-field__content\">, 2024</div></div></div> </div>\n",
      "<div class=\"elementor-widget-container\">\n",
      "<div class=\"jet-listing jet-listing-dynamic-field display-inline\"><div class=\"jet-listing-dynamic-field__inline-wrap\"><div class=\"jet-listing-dynamic-field__content\">London, UK </div></div></div> </div>\n",
      "<div class=\"elementor-widget-container\">\n",
      "<h3 class=\"elementor-heading-title elementor-size-default\"><a href=\"https://acore.org/events/finance-forum/\" target=\"_blank\">ACORE Finance Forum 2024</a></h3> </div>\n",
      "<div class=\"elementor-widget-container\">\n",
      "<div class=\"jet-listing jet-listing-dynamic-field display-inline\"><div class=\"jet-listing-dynamic-field__inline-wrap\"><div class=\"jet-listing-dynamic-field__content\">June 4</div></div></div> </div>\n",
      "<div class=\"elementor-widget-container\">\n",
      "<div class=\"jet-listing jet-listing-dynamic-field display-inline\"><div class=\"jet-listing-dynamic-field__inline-wrap\"><div class=\"jet-listing-dynamic-field__content\"> - June 5</div></div></div> </div>\n",
      "<div class=\"elementor-widget-container\">\n",
      "<div class=\"jet-listing jet-listing-dynamic-field display-inline\"><div class=\"jet-listing-dynamic-field__inline-wrap\"><div class=\"jet-listing-dynamic-field__content\">, 2024</div></div></div> </div>\n",
      "<div class=\"elementor-widget-container\">\n",
      "<div class=\"jet-listing jet-listing-dynamic-field display-inline\"><div class=\"jet-listing-dynamic-field__inline-wrap\"><div class=\"jet-listing-dynamic-field__content\">New York, USA</div></div></div> </div>\n",
      "<div class=\"elementor-widget-container\">\n",
      "<h3 class=\"elementor-heading-title elementor-size-default\"><a href=\"https://app.livestorm.co/solar-media/optimising-bess-returns-the-crucial-role-of-battery-analytics-in-asset-management-strategies?utm_source=ESN&amp;utm_medium=event-listings\" target=\"_blank\">Optimising BESS Returns: The crucial role of Battery Analytics in Asset Management strategies</a></h3> </div>\n",
      "<div class=\"elementor-widget-container\">\n",
      "<div class=\"jet-listing jet-listing-dynamic-field display-inline\"><div class=\"jet-listing-dynamic-field__inline-wrap\"><div class=\"jet-listing-dynamic-field__content\">June 5</div></div></div> </div>\n",
      "<div class=\"elementor-widget-container\">\n",
      "<div class=\"jet-listing jet-listing-dynamic-field display-inline\"><div class=\"jet-listing-dynamic-field__inline-wrap\"><div class=\"jet-listing-dynamic-field__content\"> - June 5</div></div></div> </div>\n",
      "<div class=\"elementor-widget-container\">\n",
      "<div class=\"jet-listing jet-listing-dynamic-field display-inline\"><div class=\"jet-listing-dynamic-field__inline-wrap\"><div class=\"jet-listing-dynamic-field__content\">, 2024</div></div></div> </div>\n",
      "<div class=\"elementor-widget-container\">\n",
      "<div class=\"jet-listing jet-listing-dynamic-field display-inline\"><div class=\"jet-listing-dynamic-field__inline-wrap\"><div class=\"jet-listing-dynamic-field__content\">8am (PDT) / 11am (EDT) / 5pm (CEST)</div></div></div> </div>\n",
      "<div class=\"elementor-widget-container\">\n",
      "<h3 class=\"elementor-heading-title elementor-size-default\"><a href=\"https://register.thebatteryshow.eu/tCtFXM\" target=\"_blank\">The Battery Show Europe 2024</a></h3> </div>\n",
      "<div class=\"elementor-widget-container\">\n",
      "<div class=\"jet-listing jet-listing-dynamic-field display-inline\"><div class=\"jet-listing-dynamic-field__inline-wrap\"><div class=\"jet-listing-dynamic-field__content\">June 18</div></div></div> </div>\n",
      "<div class=\"elementor-widget-container\">\n",
      "<div class=\"jet-listing jet-listing-dynamic-field display-inline\"><div class=\"jet-listing-dynamic-field__inline-wrap\"><div class=\"jet-listing-dynamic-field__content\"> - June 20</div></div></div> </div>\n",
      "<div class=\"elementor-widget-container\">\n",
      "<div class=\"jet-listing jet-listing-dynamic-field display-inline\"><div class=\"jet-listing-dynamic-field__inline-wrap\"><div class=\"jet-listing-dynamic-field__content\">, 2024</div></div></div> </div>\n",
      "<div class=\"elementor-widget-container\">\n",
      "<div class=\"jet-listing jet-listing-dynamic-field display-inline\"><div class=\"jet-listing-dynamic-field__inline-wrap\"><div class=\"jet-listing-dynamic-field__content\">Messe Stuttgart Stuttgart, Germany</div></div></div> </div>\n"
     ]
    }
   ],
   "source": [
    "import requests\n",
    "from bs4 import BeautifulSoup\n",
    "\n",
    "\n",
    "URL = \"https://www.energy-storage.news/market-segments/grid-scale/\"\n",
    "page = requests.get(URL)\n",
    "\n",
    "soup = BeautifulSoup(page.content, \"html.parser\")\n",
    "\n",
    "# <div class=\"elementor-widget-container\">\n",
    "# results = soup.find(class_=\"jet-listing-grid__items grid-col-desk-1 grid-col-tablet-1 grid-col-mobile-1 jet-listing-grid--513\")\n",
    "results = soup.find(class_=\"elementor-widget-container\")\n",
    "all_results = soup.select('.jet-listing-dynamic-post-53757 > div:nth-child(1) > section:nth-child(1) > div:nth-child(2) > div:nth-child(2) > div:nth-child(1) > div:nth-child(3) > div:nth-child(1)')\n",
    "\n",
    "container_results = soup.select('.elementor-element .elementor-widget-container .elementor-widget-container')\n",
    "# container_results = soup.select(\".elementor-element .elementor-element-79cd234 .elementor-widget .elementor-widget-text-editor\")\n",
    "\n",
    "# print(page.text)\n",
    "# print(results.prettify())\n",
    "# print(all_results)\n",
    "print(container_results)\n",
    "for item in container_results:\n",
    "    print(item)"
   ]
  },
  {
   "cell_type": "code",
   "execution_count": 22,
   "id": "3b1d7bb6",
   "metadata": {},
   "outputs": [
    {
     "data": {
      "text/plain": [
       "\"Grid Scale Archives - Energy-Storage.News Skip to content Solar MediaEventsPV TechSolar Power PortalCurrent±  Newsletter Twitter/X LinkedIn YouTube Feed Subscribe To PremiumPremium SubscriptionSign InMy AccountSearch ...  ResultsSee all results   NewsPremiumPV Tech Power JournalTechnical PapersIndustry UpdatesDistributedGrid ScaleOff GridMarket AnalysisSoftware & OptimisationMaterials & ProductionFeaturesResourcesInterviewsGuest blogEditor’s blogAnalysisEvents & WebinarsEventsUpcoming WebinarsOn-demand Webinars The Energy Storage Report 2024 Now available to download, covering deployments, technology, policy and finance in the energy storage market Download for Free Grid Scale   Entech and Eiffage partner to build transmission-connected BESS projects in France May 17, 2024 Construction group Eiffage and Entech have created a joint venture entity to design and build battery energy storage system (BESS) projects connected to the high-voltage network in France.   Premium Romania’s largest BESS operator: ‘showing a viable business with local technologies’ May 17, 2024 We hear from renewables independent power producer (IPP) and energy trading firm Monsson about a recent BESS project in Romania which reportedly used nearly 100% European technologies.   Premium UK system operator reassessing ‘outdated’ Capacity Market de-rating factors for storage May 16, 2024 UK electricity market operator National Grid ESO is reassessing how much energy storage gets paid in the Capacity Market, battery storage operators told Energy-Storage.news, with one calling the current system ‘outdated’.     Uzbekistan: Voltalia deploying co-located 100MWh BESS, plans 1GWh project May 16, 2024 France-headquartered independent power producer (IPP) Voltalia has started building a 126MW solar PV project in Uzbekistan, to which it will add a 50MW/100MWh BESS with plans to build another project ten times as big.   Battery storage failure incident rate dropped 97% between 2018 and 2023 May 16, 2024 Battery storage failure incidents have dramatically decreased in frequency in the last few years, but the industry still needs to be more transparent and share data when incidents occur.   InfraVia acquires Dutch/Belgian developer Giga Storage May 16, 2024 Infrastructure investor InfraVia has bought a majority stake in Giga Storage, a Netherlands-headquartered BESS developer which is building a 2.4GWh project in Belgium.     Developer Nofar and Sungrow deploying 230MWh Germany BESS project May 16, 2024 Inverter and BESS company Sungrow has signed a deal with developer Nofar Energy for a 230MWh project in Saxony-Anhalt, Germany.   Growth in production will keep lithium carbonate prices below 2022’s peak, says BMI May 16, 2024 Battery storage project development costs will continue to fall in 2024 as lithium costs decline “significantly,” according to BMI Research.   Zinc battery player Eos says cost reductions, automated production will fuel profitability shift in 2024 May 15, 2024 US zinc hybrid cathode battery storage manufacturer Eos Energy Enterprises has reaffirmed revenue guidance and expects to achieve a positive contribution margin this year.   Gresham House turns 50MW/50MWh UK project online, 2-hour expansion nearly complete\\xa0 May 15, 2024 UK BESS owner-operator Gresham House Energy Storage Fund has put a 50MW/50MWh project into commercial operation in Lancashire.  Posts navigation12…528Next Email Newsletter Email Address Firstname Lastname Company Job Title Company Activity  Academic & Research EstablishmentAnalystBIPVBuilding & ConstructionBuilding & Construction - ArchitectBuilding & Construction - Commercial BuildingsBuilding & Construction - House BuilderBuilding & Construction - House DeveloperConsultancyConsultancy - DesignConsultancy - Electric VehiclesConsultancy - Energy ManagementConsultancy - EnvironmentalConsultancy - FinancialConsultancy - Grid ConnectionConsultancy - PlanningConsultancy - StorageConsultancy - Tax Advisor/AccountantConsultancy - Technical ConsultantDeveloper (Renewables)Distributor/WholesalerEducation and TrainingElectric Vehicles (EV)Electric Vehicles (EV) - Batteries/StorageElectric Vehicles (EV) - ControlsElectric Vehicles (EV) - InfrastructureElectric Vehicles (EV) - ManufacturerElectric Vehicles (EV) - Vehicle to GridEnergy ManagementEnergy Management - Energy EfficiencyEnergy Management - Energy StorageEnergy Management - Metering/Monitoring/MappingEnergy Management - SoftwareEnergy TradingEPCFinanceFinance - AdvisorFinance - Asset/Fund ManagerFinance - BankFinance - Development BankFinance - FundFinance - Institutional InvestorFinance - InsuranceFinance - MicrofinanceFinance - Private EquityFinance - Residential SolarFinance - Sovereign WealthFinance - StorageFinance - VC/Angel InvestorGovernmentGovernment - EmbassyGovernment - Energy MinistryGovernment - EnvironmentGovernment - Inward InvestmentGovernment - Trade and ExportsGovernment - TransportGrid ConnectivityHousing AssociationIndependent Connection ProviderIndependent Power ProducerInstallationInstallation - Commercial StorageInstallation - Electrical ContractorInstallation - Heating EngineersInstallation - Other RenewablesInstallation - Renewable Heat/Solar ThermalInstallation - Residential StorageInstallation - Roofing ContractorInstallation - Solar PVInstallation - Tracking SystemsLand Agent (Solar PV)Land OwnerLarge Energy User - CommercialLarge Energy User - Public SectorLegalLocal Authority - CouncilLocal Authority - FinanceLocal Authority - HospitalsLocal Authority - InfrastructureLocal Authority - PlannersLocal Authority - Roads/TransportLocal Authority - SchoolsLogistics - TransportManufacturerManufacturer - Cables & ConnectorsManufacturer - Cell and moduleManufacturer - Cell onlyManufacturer - InverterManufacturer - Module onlyManufacturer - Racking/Mounting SystemsManufacturer - Renewable HeatManufacturer - Safety & SecurityManufacturer - StorageManufacturer - SwitchesManufacturer - UpstreamManufacturer - Upstream - Cell manufacturing equipmentManufacturer - Upstream - Cell manufacturing materials supplierManufacturer - Upstream - Module manufacturing equipmentManufacturer - Upstream - Module manufacturing materials supplierManufacturer - Water PumpingMaterials - StorageMicrogenerationO&MO&M - Asset Manager/OperatorO&M - DataO&M - Maintenance & SupportO&M - MonitoringO&M - SoftwareO&M - Technical AdvisorOffgridOffgrid - Desalinisation & Water PumpingOffgrid - Micro GridOffgrid - Solar Home SystemsOffgrid - Solar LightingOtherPR/Media/PartnershipsRecruitmentSoftware - BlockchainSoftware - DataSoftware - Internet of ThingsSoftware - Mobile PaymentsStorage EPCStorage - InvestorStorage ManufacturerStorage Manufacturer - CellsStorage Manufacturer - Commercial and IndustrialStorage Manufacturer - ResidentialStorage Manufacturer - UtilityStorage - Software VendorTelecommsTelecomms - ICTTelecomms - Internet of ThingsTelecomms - Mobile PaymentsTelecomms - Smart GridTesting & CertificationTrade Body/AssociationUtilitiesUtilities - Energy & PowerUtilities - Grid DNOUtilities - Non Energy & PowerCountry  United KingdomUnited StatesCanadaAfghanistanAlbaniaAlgeriaAndorraAngolaAnguillaAntarcticaAntigua and BarbudaArgentinaArmeniaArubaAustraliaAustriaAzerbaijanBahamasBahrainBangladeshBarbadosBelarusBelgiumBelizeBeninBermudaBhutanBoliviaBosnia and HerzegovinaBotswanaBrazilBritish Indian Ocean TerritoryBritish Virgin IslandsBruneiBulgariaBurkina FasoBurundiCambodiaCameroonCape VerdeCayman IslandsCentral African RepublicChadChileChinaChristmas IslandCocos (Keeling) IslandsColombiaComorosCongo, Democratic Republic of theCongo, Republic of theCook IslandsCosta RicaCroatiaCubaCuraçaoCyprusCzech RepublicCôte d’IvoireDenmarkDjiboutiDominicaDominican RepublicEcuadorEgyptEl SalvadorEquatorial GuineaEritreaEstoniaEthiopiaFalkland IslandsFaroe IslandsFijiFinlandFranceFrench GuianaFrench PolynesiaFrench Southern TerritoriesGabonGambiaGeorgiaGermanyGhanaGibraltarGreeceGreenlandGrenadaGuadeloupeGuamGuatemalaGuernseyGuineaGuinea-BissauGuyanaHaitiHondurasHong KongHungaryIcelandIndiaIndonesiaIranIraqIrelandIsle of ManIsraelItalyJamaicaJapanJerseyJordanKazakhstanKenyaKiribatiKuwaitKyrgyzstanLaosLatviaLebanonLesothoLiberiaLibyaLiechtensteinLithuaniaLuxembourgMacaoMacedoniaMadagascarMalawiMalaysiaMaldivesMaliMaltaMarshall IslandsMartiniqueMauritaniaMauritiusMayotteMexicoMicronesiaMoldovaMonacoMongoliaMontenegroMontserratMoroccoMozambiqueMyanmarNamibiaNauruNepalNetherlandsNew CaledoniaNew ZealandNicaraguaNigerNigeriaNiueNorfolk IslandNorthern Mariana IslandsNorwayOmanPakistanPalauPalestinian TerritoryPanamaPapua New GuineaParaguayPeruPhilippinesPitcairnPolandPortugalPuerto RicoQatarRomaniaRussiaRwandaRéunionSaint BarthélemySaint HelenaSaint Kitts and NevisSaint LuciaSaint Pierre and MiquelonSaint Vincent and the GrenadinesSamoaSan MarinoSao Tome and PrincipeSaudi ArabiaSenegalSerbiaSeychellesSierra LeoneSingaporeSlovakiaSloveniaSolomon IslandsSomaliaSouth AfricaSouth KoreaSouth SudanSpainSri LankaSudanSurinameSvalbard and Jan MayenSwazilandSwedenSwitzerlandSyriaTaiwanTajikistanTanzaniaThailandTimor-LesteTogoTokelauTongaTrinidad and TobagoTunisiaTurkeyTurkmenistanTurks and Caicos IslandsTuvaluU.S. Virgin IslandsUgandaUkraineUnited Arab EmiratesUruguayUzbekistanVanuatuVaticanVenezuelaVietnamWallis and FutunaWestern SaharaYemenZambiaZimbabweTerms I have read & accept Solar Media's Terms of Service and Privacy Policy. Subscribe Most Popular  Ontario makes Canada’s biggest-ever battery storage procurement to meet target  US increases tariffs on batteries from China to 25%  US utility DTE Energy issues standalone energy storage RFP in Michigan  US DOE seeks feedback on energy storage safety training, manufacturing challenges  Premium UK system operator reassessing ‘outdated’ Capacity Market de-rating factors for storage  Zinc battery player Eos says cost reductions, automated production will fuel profitability shift in 2024   Upcoming Events  Energy Storage Summit Australia 2024 May 21 \\xa0-\\xa0May 22 , 2024 Sydney, Australia  PV ModuleTech USA 2024 May 21 \\xa0-\\xa0May 22 , 2024 Napa, USA  Renewable Energy Revenues Summit 2024 May 22 \\xa0-\\xa0May 23 , 2024 London, UK   ACORE Finance Forum 2024 June 4 \\xa0-\\xa0June 5 , 2024 New York, USA  Optimising BESS Returns: The crucial role of Battery Analytics in Asset Management strategies June 5 \\xa0-\\xa0June 5 , 2024 8am (PDT) / 11am (EDT) / 5pm (CEST)  The Battery Show Europe 2024 June 18 \\xa0-\\xa0June 20 , 2024 Messe Stuttgart Stuttgart, Germany     Newsletter Twitter/X LinkedIn YouTube FeedAdvertisingContactTerms of UseTerms of SalePrivacy PolicyCookie Policy© Solar Media Limited 2024 \""
      ]
     },
     "execution_count": 22,
     "metadata": {},
     "output_type": "execute_result"
    }
   ],
   "source": [
    "news = soup.get_text()\n",
    "news.replace('\\n','')"
   ]
  },
  {
   "cell_type": "code",
   "execution_count": 10,
   "id": "16eb4db5",
   "metadata": {},
   "outputs": [
    {
     "name": "stdout",
     "output_type": "stream",
     "text": [
      "[]\n"
     ]
    }
   ],
   "source": [
    "results = soup.select('.elementor-default.elementor-template-full-width.elementor-kit-6.elementor-page-510.e--ua-firefox.wkwp-action-active div.elementor.elementor-510.elementor-location-archive section.elementor-section.elementor-top-section.elementor-element.elementor-element-2886a85.elementor-section-boxed.elementor-section-height-default.jet-parallax-section div.elementor-container.elementor-column-gap-default div.elementor-column.elementor-col-66.elementor-top-column.elementor-element.elementor-element-ac4189d div.elementor-widget-wrap.elementor-element-populated div.elementor-element.elementor-element-4de41f9.elementor-widget.elementor-widget-jet-listing-grid div.elementor-widget-container div.jet-listing-grid.jet-listing div.jet-listing-grid__items.grid-col-desk-1.grid-col-tablet-1.grid-col-mobile-1.jet-listing-grid--513 div.jet-listing-grid__item.jet-listing-dynamic-post-54255 div.elementor.elementor-513 section.elementor-section.elementor-top-section.elementor-element.elementor-element-e6ad8cc.elementor-section-boxed.elementor-section-height-default.jet-parallax-section div.elementor-container.elementor-column-gap-default div.elementor-column.elementor-col-66.elementor-top-column.elementor-element.elementor-element-c8cccae div.elementor-widget-wrap.elementor-element-populated div.elementor-element.elementor-element-79cd234.elementor-widget.elementor-widget-text-editor div.elementor-widget-container')\n",
    "results = soup.select('html .mdl-js body .archive .tax-market-segments .term-grid-scale .term-9 .wp-custom-logo .elementor-default .elementor-template-full-width .elementor-kit-6 .elementor-page-510 .e--ua-firefox .wkwp-action-active div .elementor.elementor-510 .elementor-location-archive section .elementor-section .elementor-top-section .elementor-element .elementor-element-2886a85 .elementor-section-boxed .elementor-section-height-default .jet-parallax-section div .elementor-container .elementor-column-gap-default div .elementor-column .elementor-col-66 .elementor-top-column .elementor-element .elementor-element-ac4189d div .elementor-widget-wrap .elementor-element-populated div .elementor-element .elementor-element-4de41f9 .elementor-widget .elementor-widget-jet-listing-grid div .elementor-widget-container div .jet-listing-grid .jet-listing div .jet-listing-grid__items .grid-col-desk-1 .grid-col-tablet-1 .grid-col-mobile-1 .jet-listing-grid--513 div .jet-listing-grid__item .jet-listing-dynamic-post-54255 div .elementor .elementor-513 section .elementor-section .elementor-top-section.elementor-element.elementor-element-e6ad8cc.elementor-section-boxed.elementor-section-height-default.jet-parallax-section div.elementor-container.elementor-column-gap-default div.elementor-column.elementor-col-66.elementor-top-column.elementor-element.elementor-element-c8cccae div.elementor-widget-wrap.elementor-element-populated div.elementor-element.elementor-element-79cd234.elementor-widget.elementor-widget-text-editor div.elementor-widget-container')\n",
    "print(results)"
   ]
  },
  {
   "cell_type": "code",
   "execution_count": 2,
   "id": "ea7cf480",
   "metadata": {},
   "outputs": [
    {
     "ename": "SyntaxError",
     "evalue": "invalid syntax (324165946.py, line 1)",
     "output_type": "error",
     "traceback": [
      "\u001b[0;36m  File \u001b[0;32m\"/tmp/ipykernel_4506/324165946.py\"\u001b[0;36m, line \u001b[0;32m1\u001b[0m\n\u001b[0;31m    html.mdl-js body.archive.tax-market-segments.term-grid-scale.term-9.wp-custom-logo.elementor-default.elementor-template-full-width.elementor-kit-6.elementor-page-510.e--ua-firefox.wkwp-action-active div.elementor.elementor-510.elementor-location-archive section.elementor-section.elementor-top-section.elementor-element.elementor-element-2886a85.elementor-section-boxed.elementor-section-height-default.jet-parallax-section div.elementor-container.elementor-column-gap-default div.elementor-column.elementor-col-66.elementor-top-column.elementor-element.elementor-element-ac4189d div.elementor-widget-wrap.elementor-element-populated div.elementor-element.elementor-element-4de41f9.elementor-widget.elementor-widget-jet-listing-grid div.elementor-widget-container div.jet-listing-grid.jet-listing div.jet-listing-grid__items.grid-col-desk-1.grid-col-tablet-1.grid-col-mobile-1.jet-listing-grid--513 div.jet-listing-grid__item.jet-listing-dynamic-post-53757 div.elementor.elementor-513 section.elementor-section.elementor-top-section.elementor-element.elementor-element-e6ad8cc.elementor-section-boxed.elementor-section-height-default.jet-parallax-section div.elementor-container.elementor-column-gap-default div.elementor-column.elementor-col-66.elementor-top-column.elementor-element.elementor-element-c8cccae div.elementor-widget-wrap.elementor-element-populated div.elementor-element.elementor-element-79cd234.elementor-widget.elementor-widget-text-editor div.elementor-widget-container\u001b[0m\n\u001b[0m                ^\u001b[0m\n\u001b[0;31mSyntaxError\u001b[0m\u001b[0;31m:\u001b[0m invalid syntax\n"
     ]
    }
   ],
   "source": [
    "html.mdl-js body.archive.tax-market-segments.term-grid-scale.term-9.wp-custom-logo.elementor-default.elementor-template-full-width.elementor-kit-6.elementor-page-510.e--ua-firefox.wkwp-action-active div.elementor.elementor-510.elementor-location-archive section.elementor-section.elementor-top-section.elementor-element.elementor-element-2886a85.elementor-section-boxed.elementor-section-height-default.jet-parallax-section div.elementor-container.elementor-column-gap-default div.elementor-column.elementor-col-66.elementor-top-column.elementor-element.elementor-element-ac4189d div.elementor-widget-wrap.elementor-element-populated div.elementor-element.elementor-element-4de41f9.elementor-widget.elementor-widget-jet-listing-grid div.elementor-widget-container div.jet-listing-grid.jet-listing div.jet-listing-grid__items.grid-col-desk-1.grid-col-tablet-1.grid-col-mobile-1.jet-listing-grid--513 div.jet-listing-grid__item.jet-listing-dynamic-post-53757 div.elementor.elementor-513 section.elementor-section.elementor-top-section.elementor-element.elementor-element-e6ad8cc.elementor-section-boxed.elementor-section-height-default.jet-parallax-section div.elementor-container.elementor-column-gap-default div.elementor-column.elementor-col-66.elementor-top-column.elementor-element.elementor-element-c8cccae div.elementor-widget-wrap.elementor-element-populated div.elementor-element.elementor-element-79cd234.elementor-widget.elementor-widget-text-editor div.elementor-widget-container"
   ]
  },
  {
   "cell_type": "code",
   "execution_count": null,
   "id": "0984ca96",
   "metadata": {},
   "outputs": [],
   "source": [
    "/html/body/div[2]/section/div[2]/div[1]/div/div[2]/div/div/div/div[1]/div/section/div[2]/div[2]/div/div[3]/div"
   ]
  },
  {
   "cell_type": "code",
   "execution_count": 17,
   "id": "73da533e",
   "metadata": {},
   "outputs": [],
   "source": [
    "URL = \"https://www.energy-storage.news/market-segments/grid-scale/\"\n",
    "\n",
    "# html = urlopen(URL)\n",
    "\n",
    "# bs = BeautifulSoup(html, 'html.parser')\n",
    "\n",
    "URL = \"https://www.energy-storage.news/market-segments/grid-scale/\"\n",
    "page = requests.get(URL)\n",
    "\n",
    "soup = BeautifulSoup(page.content, \"html.parser\")\n",
    "\n",
    "\n",
    "name_tags=soup .select('div:nth-child(1) > section:nth-child(1) > div:nth-child(2) > div:nth-child(2) > div:nth-child(1) > div:nth-child(3) > div:nth-child(1)')"
   ]
  },
  {
   "cell_type": "code",
   "execution_count": 18,
   "id": "ce9c6dbf",
   "metadata": {},
   "outputs": [
    {
     "name": "stdout",
     "output_type": "stream",
     "text": [
      "[]\n"
     ]
    }
   ],
   "source": [
    "print(name_tags)"
   ]
  },
  {
   "cell_type": "code",
   "execution_count": null,
   "id": "7ac04e0f",
   "metadata": {},
   "outputs": [],
   "source": [
    "/html/body/div[2]/section/div[2]/div[1]/div/div[2]/div/div/div/div[1]/div/section/div[2]/div[2]/div/div[3]/div"
   ]
  },
  {
   "cell_type": "code",
   "execution_count": null,
   "id": "9be368a7",
   "metadata": {},
   "outputs": [],
   "source": [
    "all_results = soup.select('div:nth-child(1) > section:nth-child(1) > div:nth-child(2) > div:nth-child(2) > div:nth-child(1) > div:nth-child(3) > div:nth-child(1)')"
   ]
  },
  {
   "cell_type": "code",
   "execution_count": null,
   "id": "4d3011e2",
   "metadata": {},
   "outputs": [],
   "source": [
    ".jet-listing-dynamic-post-53757 > div:nth-child(1) > section:nth-child(1) > div:nth-child(2) > div:nth-child(2) > div:nth-child(1) > div:nth-child(3) > div:nth-child(1)"
   ]
  },
  {
   "cell_type": "code",
   "execution_count": null,
   "id": "e75211e7",
   "metadata": {},
   "outputs": [],
   "source": [
    "html.mdl-js body.archive.tax-market-segments.term-grid-scale.term-9.wp-custom-logo.elementor-default.elementor-template-full-width.elementor-kit-6.elementor-page-510.e--ua-firefox.wkwp-action-active div.elementor.elementor-510.elementor-location-archive section.elementor-section.elementor-top-section.elementor-element.elementor-element-2886a85.elementor-section-boxed.elementor-section-height-default.jet-parallax-section div.elementor-container.elementor-column-gap-default div.elementor-column.elementor-col-66.elementor-top-column.elementor-element.elementor-element-ac4189d div.elementor-widget-wrap.elementor-element-populated div.elementor-element.elementor-element-4de41f9.elementor-widget.elementor-widget-jet-listing-grid div.elementor-widget-container div.jet-listing-grid.jet-listing div.jet-listing-grid__items.grid-col-desk-1.grid-col-tablet-1.grid-col-mobile-1.jet-listing-grid--513 div.jet-listing-grid__item.jet-listing-dynamic-post-54255 div.elementor.elementor-513 section.elementor-section.elementor-top-section.elementor-element.elementor-element-e6ad8cc.elementor-section-boxed.elementor-section-height-default.jet-parallax-section div.elementor-container.elementor-column-gap-default div.elementor-column.elementor-col-66.elementor-top-column.elementor-element.elementor-element-c8cccae div.elementor-widget-wrap.elementor-element-populated div.elementor-element.elementor-element-79cd234.elementor-widget.elementor-widget-text-editor div.elementor-widget-container"
   ]
  },
  {
   "cell_type": "code",
   "execution_count": 5,
   "id": "138e36b5",
   "metadata": {},
   "outputs": [
    {
     "data": {
      "text/plain": [
       "bs4.element.ResultSet"
      ]
     },
     "execution_count": 5,
     "metadata": {},
     "output_type": "execute_result"
    }
   ],
   "source": [
    "type(container_results)"
   ]
  },
  {
   "cell_type": "code",
   "execution_count": 4,
   "id": "a0c1e0ee",
   "metadata": {},
   "outputs": [
    {
     "ename": "TypeError",
     "evalue": "'NoneType' object is not callable",
     "output_type": "error",
     "traceback": [
      "\u001b[0;31m---------------------------------------------------------------------------\u001b[0m",
      "\u001b[0;31mTypeError\u001b[0m                                 Traceback (most recent call last)",
      "\u001b[0;32m/tmp/ipykernel_4506/3733925620.py\u001b[0m in \u001b[0;36m<module>\u001b[0;34m\u001b[0m\n\u001b[1;32m      2\u001b[0m \u001b[0;32mfor\u001b[0m \u001b[0mitem\u001b[0m \u001b[0;32min\u001b[0m \u001b[0mcontainer_results\u001b[0m\u001b[0;34m:\u001b[0m\u001b[0;34m\u001b[0m\u001b[0;34m\u001b[0m\u001b[0m\n\u001b[1;32m      3\u001b[0m     \u001b[0ms\u001b[0m \u001b[0;34m=\u001b[0m \u001b[0mitem\u001b[0m\u001b[0;34m\u001b[0m\u001b[0;34m\u001b[0m\u001b[0m\n\u001b[0;32m----> 4\u001b[0;31m     \u001b[0mresult\u001b[0m \u001b[0;34m=\u001b[0m \u001b[0ms\u001b[0m\u001b[0;34m.\u001b[0m\u001b[0msearch\u001b[0m\u001b[0;34m(\u001b[0m\u001b[0;34m'</div></div></div> </div>, <div class=\"elementor-widget-container\">(.*)<a href'\u001b[0m\u001b[0;34m,\u001b[0m \u001b[0ms\u001b[0m\u001b[0;34m)\u001b[0m\u001b[0;34m\u001b[0m\u001b[0;34m\u001b[0m\u001b[0m\n\u001b[0m\u001b[1;32m      5\u001b[0m     \u001b[0mprint\u001b[0m\u001b[0;34m(\u001b[0m\u001b[0mresult\u001b[0m\u001b[0;34m.\u001b[0m\u001b[0mgroup\u001b[0m\u001b[0;34m(\u001b[0m\u001b[0;36m1\u001b[0m\u001b[0;34m)\u001b[0m\u001b[0;34m)\u001b[0m\u001b[0;34m\u001b[0m\u001b[0;34m\u001b[0m\u001b[0m\n",
      "\u001b[0;31mTypeError\u001b[0m: 'NoneType' object is not callable"
     ]
    }
   ],
   "source": [
    "import re\n",
    "for item in container_results:\n",
    "    s = item\n",
    "    result = s.search('</div></div></div> </div>, <div class=\"elementor-widget-container\">(.*)<a href', s)\n",
    "    print(result.group(1))"
   ]
  },
  {
   "cell_type": "code",
   "execution_count": null,
   "id": "8ea1a05b",
   "metadata": {},
   "outputs": [],
   "source": []
  }
 ],
 "metadata": {
  "kernelspec": {
   "display_name": "Python 3 (ipykernel)",
   "language": "python",
   "name": "python3"
  },
  "language_info": {
   "codemirror_mode": {
    "name": "ipython",
    "version": 3
   },
   "file_extension": ".py",
   "mimetype": "text/x-python",
   "name": "python",
   "nbconvert_exporter": "python",
   "pygments_lexer": "ipython3",
   "version": "3.9.13"
  }
 },
 "nbformat": 4,
 "nbformat_minor": 5
}
